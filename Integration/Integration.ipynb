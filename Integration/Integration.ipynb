{
 "cells": [
  {
   "cell_type": "markdown",
   "metadata": {},
   "source": [
    "# Integration"
   ]
  },
  {
   "cell_type": "code",
   "execution_count": 1,
   "metadata": {
    "collapsed": true
   },
   "outputs": [],
   "source": [
    "import matplotlib.pyplot as plt\n",
    "import numpy as np"
   ]
  },
  {
   "cell_type": "markdown",
   "metadata": {},
   "source": [
    "## Contents\n",
    "\n",
    "1.[Integral Calculus](#Integral_Calculus)\n",
    "\n",
    "2.[Fundamental Theorem of Calculus](#Fundamental_Theorem_of_Calculus)\n",
    "\n",
    "3.[Basic Integration](#Basic_Integration)\n",
    "- [Integrating powers of x](#Integrating_powers_of_x)\n",
    "- [Integrating other basic terms](#Integrating_other_basic_terms)\n",
    "\n",
    "4.[Definite Integrals](#Definite_Integrals)\n",
    "- [Area under graph](#Area_under_graph)\n",
    "- [Area under graph for y axis](#Area_under_graph_for_y_axis)\n",
    "- [Area between lines](#Area_between_lines)\n",
    "- [Area between lines on y axis](#Area_between_lines_on_y_axis)"
   ]
  },
  {
   "cell_type": "markdown",
   "metadata": {},
   "source": [
    "<a id='Integral_Calculus'></a>\n",
    "## Integral Calculus"
   ]
  },
  {
   "cell_type": "markdown",
   "metadata": {},
   "source": [
    "How to find area under curve between a specified x\n",
    "\n",
    "$\\lim_{n\\to\\infty}\\sum_{i=1}^n f(x_i)\\Delta x_i = \\int^b_a f(x)dx$\n",
    "\n",
    "- this is the area under the graph\n",
    "- the left side sums as many values of y in the specified x data set and weights it with the difference in x\n",
    "- the right side is the integral which is 1 function which takes the range of a to b\n",
    "\n",
    "##### This is the Definite Integral\n",
    "\n",
    "$\\int f(x) dx$\n",
    "\n",
    "##### This is the Indefinite Integral or anti-derivative"
   ]
  },
  {
   "cell_type": "code",
   "execution_count": 2,
   "metadata": {},
   "outputs": [
    {
     "data": {
      "image/png": "[encoded data removed]",
      "text/plain": [
       "<matplotlib.figure.Figure at 0x7f4d39757f90>"
      ]
     },
     "metadata": {},
     "output_type": "display_data"
    }
   ],
   "source": [
    "x = np.linspace(-10, 10, 201)\n",
    "\n",
    "def f(x):\n",
    "    return x**2\n",
    "\n",
    "y = f(x)\n",
    "\n",
    "fig, ax = plt.subplots(1, figsize=(8,4))\n",
    "\n",
    "ax.plot(x,y, 'g', label='line')\n",
    "\n",
    "ax.fill_between(x,y, color='blue', alpha=0.3, label='area under graph')\n",
    "\n",
    "ax.grid(True)\n",
    "ax.legend()\n",
    "plt.show()"
   ]
  },
  {
   "cell_type": "markdown",
   "metadata": {},
   "source": [
    "<a id='Fundamental_Theorem_of_Calculus'></a>\n",
    "## Fundamental Theorem of Calculus"
   ]
  },
  {
   "cell_type": "markdown",
   "metadata": {},
   "source": [
    "$f(x)$ is continuous in $[a,b]$\n",
    "\n",
    "$F(x) = \\int^x_af(t)dt$\n",
    "- where $x$ is in $[a,b]$\n",
    "\n",
    "$\\frac{dF}{dx} = \\frac{d}{dx}\\int^x_af(t)dt = f(x)$\n",
    "\n",
    "#### Example:\n",
    "\n",
    "$F(x) = \\int^x_a\\frac{\\cos^2t}{-\\sin t^2}dt$\n",
    "\n",
    "$F\\prime(x) = \\frac{d}{dx}\\int^x_a\\frac{\\cos^2t}{-\\sin t^2}dt = \\frac{\\cos^2x}{-\\sin x^2}$\n",
    "\n",
    "#### Example 2:\n",
    "\n",
    "$F(x) = \\int^{x^2}_a\\frac{\\cos^2t}{-\\sin t^2}dt$\n",
    "\n",
    "$F\\prime(x) = \\frac{d}{dx}\\int^{x^2}_a\\frac{\\cos^2t}{-\\sin t^2}dt$\n",
    "\n",
    "$= \\frac{\\cos^2x^2}{-\\sin x^4}\\times \\frac{d}{dx}x^2$\n",
    "\n",
    "$= 2\\frac{\\cos^2x^2}{-\\sin x^4}$\n"
   ]
  },
  {
   "cell_type": "markdown",
   "metadata": {},
   "source": [
    "<a id='Basic_Integration'></a>\n",
    "## Basic Integration"
   ]
  },
  {
   "cell_type": "markdown",
   "metadata": {},
   "source": [
    "<a id='Integrating_powers_of_x'></a>\n",
    "### Integrating powers of x\n",
    "\n",
    "$\\int Ax^ndx = \\frac{A}{n+1}x^{n+1} + C$\n",
    "\n",
    "- to find the derivative we use $\\frac{d}{dx}ax^n = anx^{n-1}$\n",
    "- we do the opposite with $\\int ax^ndx = a\\frac{1}{n+1}x^{n+1}$\n",
    "- we add $C$ as we cant find out the constant of the original function\n",
    "\n",
    "#### Example\n",
    "\n",
    "$\\int 2x^5dx = \\frac{1}{3}x^{6} + C$\n",
    "\n",
    "<a id='Integrating_other_basic_terms'></a>\n",
    "### Integrating other basic terms\n",
    "\n",
    "#### Integrating $e^{kx}$\n",
    "\n",
    "$\\int Ae^{kx + b} dx = \\frac{A}{k}e^{kx + b} + C$\n",
    "\n",
    "- the derivative is $\\frac{d}{dx}e^x = e^x$\n",
    "- to differentiate, we would use the chain rule on the function of x and $\\therefore$ multiply by k\n",
    "\n",
    "#### Example\n",
    "\n",
    "$\\int 3e^{9x + 2} dx = \\frac{1}{3}e^{9x + 2} + C$\n",
    "\n",
    "#### Integrating $\\frac{1}{x}$\n",
    "\n",
    "$\\int A\\frac{n}{x} dx = An\\ln x + C$\n",
    "\n",
    "$\\int A\\frac{f\\prime(x)}{f(x)} dx = A\\ln|f(x)| + C$\n",
    "\n",
    "- in the second rule, the top is caused by the chain rule\n",
    "\n",
    "#### Example\n",
    "\n",
    "$\\int 2\\frac{6}{x} dx = 12\\ln x + C$\n",
    "\n",
    "#### Example 2\n",
    "\n",
    "$\\int 2\\frac{10x}{5x^2 + 3} dx = 2\\ln |5x^2 + 3| + C$\n",
    "\n",
    "#### Integrating $\\sin x$\n",
    "\n",
    "$\\int A\\sin(kx) dx = -A\\frac{1}{k}\\cos(kx) + C$\n",
    "\n",
    "#### Example\n",
    "\n",
    "$\\int 4\\sin(2x) dx = -2\\cos(2x) + C$\n",
    "\n",
    "#### Integrating $\\cos x$\n",
    "\n",
    "$\\int A\\cos(kx) dx = A\\frac{1}{k}\\sin(kx) + C$\n",
    "\n",
    "#### Example\n",
    "\n",
    "$\\int 11\\cos(3x) dx = \\frac{11}{3}\\sin(3x) + C$"
   ]
  },
  {
   "cell_type": "markdown",
   "metadata": {},
   "source": [
    "<a id='Definite_Integrals'></a>\n",
    "## Definite Integrals"
   ]
  },
  {
   "cell_type": "markdown",
   "metadata": {},
   "source": [
    "This is where there are defined boundaries on the x or y axis\n",
    "\n",
    "<a id='Area_under_graph'></a>\n",
    "### Area under graph\n",
    "\n",
    "$F(x) = \\int f(x)dx$\n",
    "\n",
    "$\\int_a^b f(x)dx = F(b) - F(a)$\n",
    "\n",
    "- if the graph is negative, the area can be negative\n",
    "- the definite integral gives the net area\n",
    "- to find area (not net area), split into positive and negative regions and find sum magnitudes of regions\n",
    "\n",
    "#### Example\n",
    "\n",
    "$f(x) = 6x^2$\n",
    "\n",
    "$F(x) = 2x^3$\n",
    "\n",
    "$\\int_2^5 f(x)dx = F(5) - F(2)$\n",
    "\n",
    "$= 2(5)^3 - 2(2)^3$\n",
    "\n",
    "$= 234$\n",
    "\n",
    "<a id='Area_under_graph_for_y_axis'></a>\n",
    "### Area under graph for y axis\n",
    "\n",
    "$F(y) = \\int f^{-1}(y)dy$\n",
    "\n",
    "$\\int_c^d f^{-1}(y)dy = F(d) - F(c)$\n",
    "\n",
    "- do the same but in terms of y\n",
    "- this includes taking the inverse of the line function to get a function in terms of y\n",
    "\n",
    "#### Example\n",
    "\n",
    "$f(x) = 6x^2$\n",
    "\n",
    "$f^{-1}(y) = \\left(\\frac{1}{6}y\\right)^{\\frac{1}{2}}$\n",
    "\n",
    "$F(y) = 4\\left(\\frac{1}{6}y\\right)^{\\frac{3}{2}}$\n",
    "\n",
    "$\\int_2^5 f^{-1}(y)dy = F(5) - F(2)$\n",
    "\n",
    "$= 4\\left(\\frac{5}{6}\\right)^{\\frac{3}{2}} - 4\\left(\\frac{1}{3}\\right)^{\\frac{3}{2}}$\n",
    "\n",
    "$= 2.273$"
   ]
  },
  {
   "cell_type": "markdown",
   "metadata": {},
   "source": [
    "<a id='Area_between_lines'></a>\n",
    "### Area between lines\n",
    "\n",
    "$\\int_a^b(f(x) - g(x))dx = \\int_a^bf(x)dx - \\int_a^bg(x)dx$\n",
    "\n",
    "#### Example\n",
    "\n",
    "$= \\int_0^1(\\sqrt{x} -  x^2)dx$\n",
    "\n",
    "$= \\left(\\frac{2}{3}x^{\\frac{3}{2}} - \\frac{x^3}{3}\\right)\\mid^1_0$\n",
    "\n",
    "$= \\left(\\frac{2}{3}1^{\\frac{3}{2}} - \\frac{1^3}{3}\\right) - \\left(\\frac{2}{3}0^{\\frac{3}{2}} - \\frac{0^3}{3}\\right)$\n",
    "\n",
    "$= \\left(\\frac{2}{3} - \\frac{1}{3}\\right)$\n",
    "\n",
    "$= \\left(\\frac{1}{3}\\right)$\n",
    "\n",
    "- if more lines, separate into sections on the x axis and sum\n",
    "\n",
    "<a id='Area_between_lines_on_y_axis'></a>\n",
    "### Area between lines on y axis\n",
    "\n",
    "This works the same as area under graph on y axis but combined with the area between lines method"
   ]
  },
  {
   "cell_type": "code",
   "execution_count": 3,
   "metadata": {},
   "outputs": [
    {
     "data": {
      "image/png": "[encoded data removed]",
      "text/plain": [
       "<matplotlib.figure.Figure at 0x7f4d394b0790>"
      ]
     },
     "metadata": {},
     "output_type": "display_data"
    },
    {
     "name": "stdout",
     "output_type": "stream",
     "text": [
      "shaded net area = -30.0\n"
     ]
    }
   ],
   "source": [
    "x = np.linspace(-5, 5, 201)\n",
    "\n",
    "def f(x):\n",
    "    return 6*x**2 - 20\n",
    "\n",
    "def F(x):\n",
    "    return 2*x**3 - 20*x\n",
    "\n",
    "y = f(x)\n",
    "start = 60\n",
    "end = 160\n",
    "section = x[start:end+1]\n",
    "\n",
    "fig, ax = plt.subplots(1, figsize=(8,4))\n",
    "ax.plot(x,y, 'g', label='y = 2x')\n",
    "\n",
    "ax.fill_between(section,f(section), color='blue', alpha=0.3, label='area under graph')\n",
    "ax.plot(x[start], 0, 'om', color='purple', label='a')\n",
    "ax.plot(x[end], 0, 'om', color='r', label='b')\n",
    "\n",
    "ax.grid(True)\n",
    "ax.legend()\n",
    "plt.show()\n",
    "\n",
    "print 'shaded net area =', F(x[end]) - F(x[start])"
   ]
  }
 ],
 "metadata": {
  "kernelspec": {
   "display_name": "Python 2",
   "language": "python",
   "name": "python2"
  },
  "language_info": {
   "codemirror_mode": {
    "name": "ipython",
    "version": 2
   },
   "file_extension": ".py",
   "mimetype": "text/x-python",
   "name": "python",
   "nbconvert_exporter": "python",
   "pygments_lexer": "ipython2",
   "version": "2.7.12"
  }
 },
 "nbformat": 4,
 "nbformat_minor": 2
}
