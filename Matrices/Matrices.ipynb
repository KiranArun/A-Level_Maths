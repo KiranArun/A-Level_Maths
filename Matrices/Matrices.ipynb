{
 "cells": [
  {
   "cell_type": "markdown",
   "metadata": {},
   "source": [
    "# A-Level: Matrices"
   ]
  },
  {
   "cell_type": "code",
   "execution_count": 24,
   "metadata": {
    "collapsed": true
   },
   "outputs": [],
   "source": [
    "# we will be using numpy to create the arrays\n",
    "# the code isn't so important in this notebook, just the arrays are\n",
    "import numpy as np"
   ]
  },
  {
   "cell_type": "markdown",
   "metadata": {},
   "source": [
    "#### Matrices are 2d arrays written rows x columns"
   ]
  },
  {
   "cell_type": "code",
   "execution_count": 25,
   "metadata": {},
   "outputs": [
    {
     "name": "stdout",
     "output_type": "stream",
     "text": [
      "[[ 0  1  2  3]\n",
      " [ 4  5  6  7]\n",
      " [ 8  9 10 11]]\n"
     ]
    }
   ],
   "source": [
    "# array conaining 12 consecutive values in shape 3 by 4\n",
    "a = np.arange(12).reshape([3,4])\n",
    "print(a)"
   ]
  },
  {
   "cell_type": "markdown",
   "metadata": {},
   "source": [
    "## Simple Matrix Operations"
   ]
  },
  {
   "cell_type": "markdown",
   "metadata": {},
   "source": [
    "### Addition/Subtraction\n",
    "#### $(A+B)_{i,j}$\n",
    "#### $(A-B)_{i,j}$"
   ]
  },
  {
   "cell_type": "code",
   "execution_count": 26,
   "metadata": {},
   "outputs": [
    {
     "name": "stdout",
     "output_type": "stream",
     "text": [
      "A + B =\n",
      " [[ 1.  1.  2.]\n",
      " [ 3.  5.  5.]\n",
      " [ 6.  7.  9.]]\n",
      "A - B =\n",
      " [[-1.  1.  2.]\n",
      " [ 3.  3.  5.]\n",
      " [ 6.  7.  7.]]\n"
     ]
    }
   ],
   "source": [
    "# They can be added if they are the same size/shape\n",
    "# they are added by adding the equivilent value in the other array\n",
    "A = np.arange(9).reshape([3,3])\n",
    "B = np.eye(3,3)\n",
    "\n",
    "add = np.add(A,B)\n",
    "sub = np.subtract(A,B)\n",
    "print('A + B =\\n', add)\n",
    "print('A - B =\\n', sub)"
   ]
  },
  {
   "cell_type": "markdown",
   "metadata": {},
   "source": [
    "### Scalar Multiplication\n",
    "#### $2\\cdot A_{i,j}$"
   ]
  },
  {
   "cell_type": "code",
   "execution_count": 27,
   "metadata": {},
   "outputs": [
    {
     "name": "stdout",
     "output_type": "stream",
     "text": [
      "[[ 0  2  4]\n",
      " [ 6  8 10]\n",
      " [12 14 16]]\n"
     ]
    }
   ],
   "source": [
    "# Scalar multiplication just multiplies each element\n",
    "sca_mul = np.multiply(2,A)\n",
    "\n",
    "print(sca_mul)"
   ]
  },
  {
   "cell_type": "markdown",
   "metadata": {},
   "source": [
    "### Transposition\n",
    "This is where each row and column is swapped with its corresponding row or column.\n",
    "### $A^T$"
   ]
  },
  {
   "cell_type": "code",
   "execution_count": 28,
   "metadata": {},
   "outputs": [
    {
     "name": "stdout",
     "output_type": "stream",
     "text": [
      "B =\n",
      "[[  0.5   1.    1.5   2.    2.5   3.    3.5   4. ]\n",
      " [  4.5   5.    5.5   6.    6.5   7.    7.5   8. ]\n",
      " [  8.5   9.    9.5  10.   10.5  11.   11.5  12. ]]\n",
      "\n",
      "B^T =\n",
      "[[  0.5   4.5   8.5]\n",
      " [  1.    5.    9. ]\n",
      " [  1.5   5.5   9.5]\n",
      " [  2.    6.   10. ]\n",
      " [  2.5   6.5  10.5]\n",
      " [  3.    7.   11. ]\n",
      " [  3.5   7.5  11.5]\n",
      " [  4.    8.   12. ]]\n"
     ]
    }
   ],
   "source": [
    "B = np.linspace(0.5,12,24).reshape(3,8)\n",
    "print('B =')\n",
    "print(B)\n",
    "print('\\nB^T =')\n",
    "print( np.transpose(B))"
   ]
  },
  {
   "cell_type": "markdown",
   "metadata": {},
   "source": [
    "## Matrix Multiplication\n",
    "\n",
    "only works if   \n",
    "#### columns in A = rows in B\n",
    "\n",
    "## $A_{m,n}\\cdot B_{n,p} = C_{m,p}$\n",
    "\n",
    "#### Remember that the order affects the answer"
   ]
  },
  {
   "cell_type": "code",
   "execution_count": 29,
   "metadata": {},
   "outputs": [
    {
     "name": "stdout",
     "output_type": "stream",
     "text": [
      "A =\n",
      "[[ 1.  2.  3.]\n",
      " [ 4.  5.  6.]]\n",
      "B =\n",
      "[[ 1.  2.  3.]\n",
      " [ 4.  5.  6.]\n",
      " [ 7.  8.  9.]]\n",
      "\n",
      "With A x B = C \n",
      "C =\n",
      "[[ 30.  36.  42.]\n",
      " [ 66.  81.  96.]]\n"
     ]
    }
   ],
   "source": [
    "A = np.linspace(1,6,6).reshape(2,3)\n",
    "B = np.linspace(1,9,9).reshape(3,3)\n",
    "\n",
    "# use numpy's matrix multiplication matmul\n",
    "C = np.matmul(A, B)\n",
    "\n",
    "print('A =')\n",
    "print(A)\n",
    "print('B =')\n",
    "print(B)\n",
    "print('\\nWith A x B = C \\nC =')\n",
    "print(C)"
   ]
  },
  {
   "cell_type": "markdown",
   "metadata": {},
   "source": [
    "In this Example,\n",
    "\n",
    "the element $C_{i,j}$ will be\n",
    "\n",
    "#### $\\sum A[i,:] \\cdot B[:,j]$"
   ]
  },
  {
   "cell_type": "markdown",
   "metadata": {},
   "source": [
    "### Another Example"
   ]
  },
  {
   "cell_type": "code",
   "execution_count": 30,
   "metadata": {},
   "outputs": [
    {
     "name": "stdout",
     "output_type": "stream",
     "text": [
      "A =\n",
      "[[ 1.  2.  3.]\n",
      " [ 4.  5.  6.]]\n",
      "B =\n",
      "[[  2.   4.]\n",
      " [  6.   8.]\n",
      " [ 10.  12.]]\n",
      "\n",
      "With A x B = C \n",
      "C =\n",
      "[[  44.   56.]\n",
      " [  98.  128.]]\n"
     ]
    }
   ],
   "source": [
    "A = np.linspace(1,6,6).reshape(2,3)\n",
    "B = np.linspace(2,12,6).reshape(3,2)\n",
    "C = np.matmul(A, B)\n",
    "print('A =')\n",
    "print(A)\n",
    "print('B =')\n",
    "print(B)\n",
    "print('\\nWith A x B = C \\nC =')\n",
    "print(C)"
   ]
  },
  {
   "cell_type": "markdown",
   "metadata": {},
   "source": [
    "### Identitiy Matrices\n",
    "\n",
    "Identity Matrices are Matrices which if you multiply it by any matrix, it returns the same matrix you multiplied it by\n",
    "\n",
    "They are equivalent to the number 1 but for matrices. They must always be a square and have 1's in a diagonal from top left to bottom right with the rest zeros\n",
    "\n",
    "#### Noted as:\n",
    "$I_s$\n",
    "\n",
    "with s as a dimension"
   ]
  },
  {
   "cell_type": "code",
   "execution_count": 31,
   "metadata": {},
   "outputs": [
    {
     "name": "stdout",
     "output_type": "stream",
     "text": [
      "[[ 1.  0.  0.  0.  0.]\n",
      " [ 0.  1.  0.  0.  0.]\n",
      " [ 0.  0.  1.  0.  0.]\n",
      " [ 0.  0.  0.  1.  0.]\n",
      " [ 0.  0.  0.  0.  1.]]\n"
     ]
    }
   ],
   "source": [
    "# Here, we are using the numpy.eye function\n",
    "# This creates an identity matrix with the specified number size\n",
    "I = np.eye(5)\n",
    "print(I)"
   ]
  },
  {
   "cell_type": "markdown",
   "metadata": {},
   "source": [
    "### Zero Matrices\n",
    "\n",
    "These are Matrices full of only 0's\n",
    "\n",
    "#### Noted as: $O$"
   ]
  },
  {
   "cell_type": "markdown",
   "metadata": {},
   "source": [
    "## Inverse Matrices\n",
    "\n",
    "#### If $A\\cdot B = C$, then $A = \\frac{C}{B}$\n",
    "\n",
    "But we cant divide matrices so we use \n",
    "$A = B^{-1}C$\n",
    "\n",
    "$B^{-1}$ is the inverse of B\n",
    "\n",
    "Also\n",
    "$B\\cdot B^{-1} = I$ \n",
    "\n",
    "with I as an identity matrix"
   ]
  },
  {
   "cell_type": "markdown",
   "metadata": {},
   "source": [
    "### For $2\\times 2$ matrices\n",
    "$\\left(\\begin{array}{cc} \n",
    "a & b \\\\c & d\n",
    "\\end{array}\\right)^{-1} = \\frac{1}{ad-bc}\\left(\\begin{array}{cc} \n",
    "d & -b \\\\-c & a\n",
    "\\end{array}\\right)$\n",
    "\n",
    "Matrices with inverses are called nonsingulars or invertables\n",
    "\n",
    "A Matrix with no inverse, where $ad-bc=0$, is called a singular"
   ]
  },
  {
   "cell_type": "markdown",
   "metadata": {},
   "source": [
    "### The Determinant\n",
    "\n",
    "$ad-bc$ is the determinant from above.\n",
    "\n",
    "Noted as:\n",
    "$det(M)$ or $|M|$\n",
    "\n",
    "with M as the Matrix"
   ]
  },
  {
   "cell_type": "code",
   "execution_count": 33,
   "metadata": {},
   "outputs": [
    {
     "name": "stdout",
     "output_type": "stream",
     "text": [
      "A =\n",
      "[[0 1]\n",
      " [2 3]]\n",
      "\n",
      "A^-1 =\n",
      "[[-1.5  0.5]\n",
      " [ 1.   0. ]]\n"
     ]
    }
   ],
   "source": [
    "A = np.arange(4).reshape(2,2)\n",
    "print('A =')\n",
    "print(A)\n",
    "print('\\nA^-1 =')\n",
    "print(np.linalg.inv(A))"
   ]
  },
  {
   "cell_type": "markdown",
   "metadata": {},
   "source": [
    "### For $3\\times 3$ or more matrices\n",
    "\n",
    "$M = \\left(\\begin{array}{cc} \n",
    "1 & -1 & 3 \\\\2 & -1 & 4\\\\ 2 & 2 & 1\n",
    "\\end{array}\\right)$\n",
    "\n",
    "To find $M^{-1}$:"
   ]
  },
  {
   "cell_type": "markdown",
   "metadata": {
    "collapsed": true
   },
   "source": [
    "#### First, find the Determinant:\n",
    "\n",
    "For each element in the matrix, remove the row and column its in so you're left with a 2x2 matrix\n",
    "\n",
    "if $M^{0,0}$ is choosen\n",
    "$\\left(\\begin{array}{cc} \n",
    "T & - & - \\\\- & -1 & 4\\\\ - & 2 & 1\n",
    "\\end{array}\\right)$\n",
    "\n",
    "with T as $M^{0,0}$\n",
    "\n",
    "Returns\n",
    "$\\left(\\begin{array}{cc} \n",
    "-1 & 4\\\\2 & 1\n",
    "\\end{array}\\right)$\n",
    "\n",
    "or if $M^{1,2}$ is choosen\n",
    "$\\left(\\begin{array}{cc} \n",
    "1 & -1 & - \\\\- & - & T\\\\ 2 & 2 & -\n",
    "\\end{array}\\right)$\n",
    "\n",
    "with T as $M^{0,0}$\n",
    "\n",
    "Returns\n",
    "$\\left(\\begin{array}{cc} \n",
    "1 & -1\\\\2 & 2\n",
    "\\end{array}\\right)$"
   ]
  },
  {
   "cell_type": "markdown",
   "metadata": {},
   "source": [
    "#### Now find the determinant of this submatrix using $ad-bc$\n",
    "\n",
    "det$\\left(\\begin{array}{cc} \n",
    "-1 & 4\\\\2 & 1\n",
    "\\end{array}\\right)$ = $(-1\\times 1) - (4\\times 2$) =  $-9$\n",
    "\n",
    "Since this submatrix was choosen from point $M^{0,0}$, in our matrix of minors, $M^{0,0} = -9$\n",
    "\n",
    "if we do this for every point:\n",
    "\n",
    "Matrix of Minors $= \\left(\\begin{array}{cc} \n",
    "-9 & -6 & 6 \\\\-7 & -5 & 4\\\\ -1 & -2 & 1\n",
    "\\end{array}\\right)$"
   ]
  },
  {
   "cell_type": "markdown",
   "metadata": {},
   "source": [
    "#### Now we need to find the cofactors of the original matrix\n",
    "\n",
    "We do this by multiplying each element by $-1^{i+j}$\n",
    "\n",
    "for $M^{0,0}$, i and j = 0 so:\n",
    "\n",
    "$-9\\times -1^{0+0} = -9\\times 1 = -9$\n",
    "\n",
    "or for $M^{2,1}$, i = 2 and j = 1 so:\n",
    "\n",
    "$-2\\times -1^{2+1} = -2\\times -1 = 2$\n",
    "\n",
    "it can also be visualised as an array with alternating positive and negatives while always starting with a positive like:\n",
    "\n",
    "$\\left(\\begin{array}{cc} \n",
    "+ & - & + \\\\- & + & -\\\\ + & - & +\n",
    "\\end{array}\\right)$\n",
    "\n",
    "This gives us:\n",
    "\n",
    "Matrix of Cofactors \n",
    "$= \\left(\\begin{array}{cc} \n",
    "-9 & 6 & 6 \\\\7 & -5 & -4\\\\ -1 & 2 & 1\n",
    "\\end{array}\\right)$"
   ]
  },
  {
   "cell_type": "markdown",
   "metadata": {},
   "source": [
    "#### Now find the determinant of the original matrix \n",
    "\n",
    "Do this by multiplying each individual determinant on one row from our matrix of cofactors by the corresponding original value. It doesnt matter what row you choose, it will always be the same as the calculation endsup using all the elements in the original matrix\n",
    "\n",
    "$|M| = (-9\\times 1) + (6\\times -1) + (6\\times 3) = 3$"
   ]
  },
  {
   "cell_type": "markdown",
   "metadata": {},
   "source": [
    "#### Now find the adjugate (or known as adjoint)\n",
    "\n",
    "All we do is transpose the matrix of cofactors\n",
    "\n",
    "This will allow us to multiply it by the original matrix and return an identity matrix\n",
    "\n",
    "adjugate = \n",
    "$= \\left(\\begin{array}{cc} \n",
    "-9 & 7 & -1 \\\\6 & -5 & 2\\\\ 6 & -4 & 1\n",
    "\\end{array}\\right)$"
   ]
  },
  {
   "cell_type": "markdown",
   "metadata": {},
   "source": [
    "#### Finally, multiply it by $|M|^{-1}$\n",
    "\n",
    "### $M^{-1} = \\frac{1}{3} \\left(\\begin{array}{cc} -9 & 7 & -1 \\\\6 & -5 & 2\\\\ 6 & -4 & 1\\end{array}\\right)$\n",
    "\n",
    "We must multiply is by $|M|^{-1}$ because if we multiply any row by corresponding column in the original matrix, we will recieve the determinant because that is how we calculated the determinant in the first place\n",
    "\n",
    "If the matrix is any bigger, do the same but calculate more submatrices until left  with 2x2 matrices like in this example."
   ]
  },
  {
   "cell_type": "code",
   "execution_count": 39,
   "metadata": {},
   "outputs": [
    {
     "name": "stdout",
     "output_type": "stream",
     "text": [
      "[[-3.          2.33333333 -0.33333333]\n",
      " [ 2.         -1.66666667  0.66666667]\n",
      " [ 2.         -1.33333333  0.33333333]]\n"
     ]
    }
   ],
   "source": [
    "# The same example but in 1 line of python\n",
    "\n",
    "print(np.linalg.inv(np.array([[1,-1,3],[2,-1,4],[2,2,1]])))"
   ]
  },
  {
   "cell_type": "code",
   "execution_count": null,
   "metadata": {
    "collapsed": true
   },
   "outputs": [],
   "source": []
  }
 ],
 "metadata": {
  "kernelspec": {
   "display_name": "Python 3",
   "language": "python",
   "name": "python3"
  },
  "language_info": {
   "codemirror_mode": {
    "name": "ipython",
    "version": 3
   },
   "file_extension": ".py",
   "mimetype": "text/x-python",
   "name": "python",
   "nbconvert_exporter": "python",
   "pygments_lexer": "ipython3",
   "version": "3.5.2"
  }
 },
 "nbformat": 4,
 "nbformat_minor": 2
}
