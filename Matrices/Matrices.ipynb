{
 "cells": [
  {
   "cell_type": "markdown",
   "metadata": {},
   "source": [
    "# A-Level: Matrices"
   ]
  },
  {
   "cell_type": "markdown",
   "metadata": {},
   "source": [
    "Matrices are 2d arrays written rows $\\times$ columns"
   ]
  },
  {
   "cell_type": "code",
   "execution_count": 9,
   "metadata": {},
   "outputs": [
    {
     "name": "stdout",
     "output_type": "stream",
     "text": [
      "[[ 0  1  2  3]\n",
      " [ 4  5  6  7]\n",
      " [ 8  9 10 11]]\n"
     ]
    }
   ],
   "source": [
    "import numpy as np\n",
    "\n",
    "# array conaining 12 consecutive values in shape 3 by 4\n",
    "a = np.arange(12).reshape([3,4])\n",
    "print(a)"
   ]
  },
  {
   "cell_type": "markdown",
   "metadata": {},
   "source": [
    "## Simple Matrix Operations"
   ]
  },
  {
   "cell_type": "markdown",
   "metadata": {},
   "source": [
    "### Addition/Subtraction\n",
    "#### $(A+B)_{i,j}$\n",
    "#### $(A-B)_{i,j}$\n",
    "### Scalar Multiplication\n",
    "#### $2\\cdot A_{i,j}$\n",
    "### Transposition\n",
    "This is where each row and column is swapped with its corresponding row or column.\n",
    "### $A^T$"
   ]
  },
  {
   "cell_type": "code",
   "execution_count": 10,
   "metadata": {},
   "outputs": [
    {
     "name": "stdout",
     "output_type": "stream",
     "text": [
      "A + B =\n",
      " [[ 1.  1.  2.]\n",
      " [ 3.  5.  5.]\n",
      " [ 6.  7.  9.]]\n",
      "A - B =\n",
      " [[-1.  1.  2.]\n",
      " [ 3.  3.  5.]\n",
      " [ 6.  7.  7.]]\n"
     ]
    }
   ],
   "source": [
    "# They can be added if they are the same size/shape\n",
    "# they are added by adding the equivilent value in the other array\n",
    "A = np.arange(9).reshape([3,3])\n",
    "B = np.eye(3,3)\n",
    "\n",
    "add = np.add(A,B)\n",
    "sub = np.subtract(A,B)\n",
    "print('A + B =\\n', add)\n",
    "print('A - B =\\n', sub)"
   ]
  },
  {
   "cell_type": "code",
   "execution_count": 11,
   "metadata": {},
   "outputs": [
    {
     "name": "stdout",
     "output_type": "stream",
     "text": [
      "[[ 0  2  4]\n",
      " [ 6  8 10]\n",
      " [12 14 16]]\n"
     ]
    }
   ],
   "source": [
    "# Scalar multiplication just multiplies each element\n",
    "sca_mul = np.multiply(2,A)\n",
    "\n",
    "print(sca_mul)"
   ]
  },
  {
   "cell_type": "code",
   "execution_count": 12,
   "metadata": {},
   "outputs": [
    {
     "name": "stdout",
     "output_type": "stream",
     "text": [
      "B = \n",
      " [[  0.5   1.    1.5   2.    2.5   3.    3.5   4. ]\n",
      " [  4.5   5.    5.5   6.    6.5   7.    7.5   8. ]\n",
      " [  8.5   9.    9.5  10.   10.5  11.   11.5  12. ]]\n",
      "B^T =\n",
      " [[  0.5   4.5   8.5]\n",
      " [  1.    5.    9. ]\n",
      " [  1.5   5.5   9.5]\n",
      " [  2.    6.   10. ]\n",
      " [  2.5   6.5  10.5]\n",
      " [  3.    7.   11. ]\n",
      " [  3.5   7.5  11.5]\n",
      " [  4.    8.   12. ]]\n"
     ]
    }
   ],
   "source": [
    "B = np.linspace(0.5,12,24).reshape(3,8)\n",
    "print('B = \\n', B)\n",
    "print('B^T =\\n', np.transpose(B))"
   ]
  },
  {
   "cell_type": "markdown",
   "metadata": {},
   "source": [
    "## Matrix Multiplication\n",
    "\n",
    "only works if   \n",
    "### columns in A = rows in B\n",
    "\n",
    "## $A_{m,n}\\cdot B_{n,p} = C_{m,p}$"
   ]
  },
  {
   "cell_type": "code",
   "execution_count": 13,
   "metadata": {},
   "outputs": [
    {
     "name": "stdout",
     "output_type": "stream",
     "text": [
      "A =\n",
      " [[ 1.  2.  3.]\n",
      " [ 4.  5.  6.]]\n",
      "B =\n",
      " [[ 1.  2.  3.]\n",
      " [ 4.  5.  6.]\n",
      " [ 7.  8.  9.]]\n",
      "A x B =\n",
      " [[ 30.  36.  42.]\n",
      " [ 66.  81.  96.]]\n"
     ]
    }
   ],
   "source": [
    "A = np.linspace(1,6,6).reshape(2,3)\n",
    "B = np.linspace(1,9,9).reshape(3,3)\n",
    "\n",
    "C = np.matmul(A, B)\n",
    "print('A =\\n', A)\n",
    "print('B =\\n', B)\n",
    "print('A x B =\\n', C)"
   ]
  },
  {
   "cell_type": "markdown",
   "metadata": {},
   "source": [
    "In this example:\n",
    "\n",
    "30 = sum of A row 1 x B column 1\n",
    "36 = sum of A row 1 x B column 2\n",
    "42 = sum of A row 1 x B column 3\n",
    "66 = sum of A row 2 x B column 1\n",
    "etc\n",
    "\n",
    "the element $C_{i,j}$ will be\n",
    "\n",
    "### $\\sum A[i] \\cdot B[j]$"
   ]
  },
  {
   "cell_type": "code",
   "execution_count": 14,
   "metadata": {},
   "outputs": [
    {
     "name": "stdout",
     "output_type": "stream",
     "text": [
      "A =\n",
      " [[ 1.  2.  3.]\n",
      " [ 4.  5.  6.]]\n",
      "B =\n",
      " [[  2.   4.]\n",
      " [  6.   8.]\n",
      " [ 10.  12.]]\n",
      "A x B =\n",
      " [[  44.   56.]\n",
      " [  98.  128.]]\n"
     ]
    }
   ],
   "source": [
    "A = np.linspace(1,6,6).reshape(2,3)\n",
    "B = np.linspace(2,12,6).reshape(3,2)\n",
    "C = np.matmul(A, B)\n",
    "print('A =\\n', A)\n",
    "print('B =\\n', B)\n",
    "print('A x B =\\n', C)"
   ]
  },
  {
   "cell_type": "code",
   "execution_count": 15,
   "metadata": {},
   "outputs": [
    {
     "name": "stdout",
     "output_type": "stream",
     "text": [
      "[[ 1.  0.  0.  0.  0.]\n",
      " [ 0.  1.  0.  0.  0.]\n",
      " [ 0.  0.  1.  0.  0.]\n",
      " [ 0.  0.  0.  1.  0.]\n",
      " [ 0.  0.  0.  0.  1.]]\n"
     ]
    }
   ],
   "source": [
    "# identity matrices are matrices that if you multiply by another matrix, the result is the other matrix\n",
    "\n",
    "D = np.eye(5)\n",
    "print(D)"
   ]
  },
  {
   "cell_type": "markdown",
   "metadata": {},
   "source": [
    "## Inverse Matrices\n",
    "\n",
    "### If $A\\cdot B = 1$, then $A = \\frac{1}{B}$\n",
    "\n",
    "But we cant divide matrices so we use $B^-1$"
   ]
  },
  {
   "cell_type": "markdown",
   "metadata": {},
   "source": [
    "#### For $2\\times 2$ Matrices\n",
    "$\\left(\\begin{array}{cc} \n",
    "a & b \\\\c & d\n",
    "\\end{array}\\right)^{-1} = \\frac{1}{ad-bc}\\left(\\begin{array}{cc} \n",
    "d & -b \\\\-c & a\n",
    "\\end{array}\\right)$\n",
    "\n",
    "A Matrix with no inverse, where $ad-bc=0$, is called a singular"
   ]
  },
  {
   "cell_type": "code",
   "execution_count": 16,
   "metadata": {},
   "outputs": [
    {
     "name": "stdout",
     "output_type": "stream",
     "text": [
      "[[0 1]\n",
      " [2 3]]\n",
      "[[-1.5  0.5]\n",
      " [ 1.   0. ]]\n"
     ]
    }
   ],
   "source": [
    "A = np.arange(4).reshape(2,2)\n",
    "print(A)\n",
    "print(np.linalg.inv(A))"
   ]
  },
  {
   "cell_type": "markdown",
   "metadata": {},
   "source": [
    "### The Determinant\n",
    "\n",
    "$ad-bc$ is the determinant from above."
   ]
  },
  {
   "cell_type": "code",
   "execution_count": null,
   "metadata": {
    "collapsed": true
   },
   "outputs": [],
   "source": []
  }
 ],
 "metadata": {
  "kernelspec": {
   "display_name": "Python 3",
   "language": "python",
   "name": "python3"
  },
  "language_info": {
   "codemirror_mode": {
    "name": "ipython",
    "version": 3
   },
   "file_extension": ".py",
   "mimetype": "text/x-python",
   "name": "python",
   "nbconvert_exporter": "python",
   "pygments_lexer": "ipython3",
   "version": "3.5.2"
  }
 },
 "nbformat": 4,
 "nbformat_minor": 2
}
