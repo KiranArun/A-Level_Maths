{
 "cells": [
  {
   "cell_type": "markdown",
   "metadata": {},
   "source": [
    "# A-Level: Matrices"
   ]
  },
  {
   "cell_type": "markdown",
   "metadata": {},
   "source": [
    "Matrices are 2d arrays written rows $\\times$ columns"
   ]
  },
  {
   "cell_type": "code",
   "execution_count": 15,
   "metadata": {},
   "outputs": [
    {
     "name": "stdout",
     "output_type": "stream",
     "text": [
      "[[ 0  1  2  3]\n",
      " [ 4  5  6  7]\n",
      " [ 8  9 10 11]]\n"
     ]
    }
   ],
   "source": [
    "import numpy as np\n",
    "\n",
    "# array conaining 12 consecutive values in shape 3 by 4\n",
    "a = np.arange(12).reshape([3,4])\n",
    "print a"
   ]
  },
  {
   "cell_type": "markdown",
   "metadata": {},
   "source": [
    "## Simple Matrix Operations"
   ]
  },
  {
   "cell_type": "markdown",
   "metadata": {},
   "source": [
    "### Addition/Subtraction\n",
    "#### $(A+B)_{i,j}$\n",
    "#### $(A-B)_{i,j}$\n",
    "### Scalar Multiplication\n",
    "#### $2\\cdot A_{i,j}$\n",
    "### Transposition\n",
    "#### $A^T$"
   ]
  },
  {
   "cell_type": "code",
   "execution_count": 16,
   "metadata": {},
   "outputs": [
    {
     "name": "stdout",
     "output_type": "stream",
     "text": [
      "A + B =\n",
      "[[ 1.  1.  2.]\n",
      " [ 3.  5.  5.]\n",
      " [ 6.  7.  9.]]\n",
      "A - B =\n",
      "[[-1.  1.  2.]\n",
      " [ 3.  3.  5.]\n",
      " [ 6.  7.  7.]]\n"
     ]
    }
   ],
   "source": [
    "# They can be added if they are the same size/shape\n",
    "# they are added by adding the equivilent value in the other array\n",
    "A = np.arange(9).reshape([3,3])\n",
    "B = np.eye(3,3)\n",
    "\n",
    "add = np.add(A,B)\n",
    "sub = np.subtract(A,B)\n",
    "print 'A + B =\\n', add\n",
    "print 'A - B =\\n', sub"
   ]
  },
  {
   "cell_type": "code",
   "execution_count": 17,
   "metadata": {},
   "outputs": [
    {
     "name": "stdout",
     "output_type": "stream",
     "text": [
      "[[ 0  2  4]\n",
      " [ 6  8 10]\n",
      " [12 14 16]]\n"
     ]
    }
   ],
   "source": [
    "# Scalar multiplication just multiplies each element\n",
    "sca_mul = np.multiply(2,A)\n",
    "\n",
    "print sca_mul"
   ]
  },
  {
   "cell_type": "code",
   "execution_count": 18,
   "metadata": {},
   "outputs": [
    {
     "name": "stdout",
     "output_type": "stream",
     "text": [
      "[[0 3 6]\n",
      " [1 4 7]\n",
      " [2 5 8]]\n"
     ]
    }
   ],
   "source": [
    "# Transposition just swaps the rows and columns\n",
    "tran = np.transpose(A)\n",
    "\n",
    "print tran"
   ]
  },
  {
   "cell_type": "markdown",
   "metadata": {},
   "source": [
    "## Matrix Multiplication\n",
    "\n",
    "only works if   \n",
    "### columns in A = rows in B\n",
    "\n",
    "## $A_{m,n}\\cdot B_{n,p} = C_{m,p}$"
   ]
  },
  {
   "cell_type": "code",
   "execution_count": 24,
   "metadata": {},
   "outputs": [
    {
     "name": "stdout",
     "output_type": "stream",
     "text": [
      "A =\n",
      "[[ 1.  2.  3.]\n",
      " [ 4.  5.  6.]]\n",
      "B =\n",
      "[[ 1.  2.  3.]\n",
      " [ 4.  5.  6.]\n",
      " [ 7.  8.  9.]]\n",
      "A x B =\n",
      "[[ 30.  36.  42.]\n",
      " [ 66.  81.  96.]]\n"
     ]
    }
   ],
   "source": [
    "A = np.linspace(1,6,6).reshape(2,3)\n",
    "B = np.linspace(1,9,9).reshape(3,3)\n",
    "\n",
    "C = np.matmul(A, B)\n",
    "print 'A =\\n', A\n",
    "print 'B =\\n', B\n",
    "print 'A x B =\\n', C"
   ]
  },
  {
   "cell_type": "markdown",
   "metadata": {},
   "source": [
    "In this example:\n",
    "\n",
    "30 = sum of A row 1 x B column 1\n",
    "36 = sum of A row 1 x B column 2\n",
    "42 = sum of A row 1 x B column 3\n",
    "66 = sum of A row 2 x B column 1\n",
    "etc\n",
    "\n",
    "the element $C_{i,j}$ will be\n",
    "\n",
    "### $\\sum A[i] \\cdot B[j]$"
   ]
  },
  {
   "cell_type": "code",
   "execution_count": 27,
   "metadata": {},
   "outputs": [
    {
     "name": "stdout",
     "output_type": "stream",
     "text": [
      "A =\n",
      "[[ 1.  2.  3.]\n",
      " [ 4.  5.  6.]]\n",
      "B =\n",
      "[[  2.   4.]\n",
      " [  6.   8.]\n",
      " [ 10.  12.]]\n",
      "A x B =\n",
      "[[  44.   56.]\n",
      " [  98.  128.]]\n"
     ]
    }
   ],
   "source": [
    "A = np.linspace(1,6,6).reshape(2,3)\n",
    "B = np.linspace(2,12,6).reshape(3,2)\n",
    "C = np.matmul(A, B)\n",
    "print 'A =\\n', A\n",
    "print 'B =\\n', B\n",
    "print 'A x B =\\n', C"
   ]
  },
  {
   "cell_type": "code",
   "execution_count": null,
   "metadata": {
    "collapsed": true
   },
   "outputs": [],
   "source": []
  }
 ],
 "metadata": {
  "kernelspec": {
   "display_name": "Python 2",
   "language": "python",
   "name": "python2"
  },
  "language_info": {
   "codemirror_mode": {
    "name": "ipython",
    "version": 2
   },
   "file_extension": ".py",
   "mimetype": "text/x-python",
   "name": "python",
   "nbconvert_exporter": "python",
   "pygments_lexer": "ipython2",
   "version": "2.7.12"
  }
 },
 "nbformat": 4,
 "nbformat_minor": 2
}
