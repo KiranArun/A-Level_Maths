{
 "cells": [
  {
   "cell_type": "markdown",
   "metadata": {},
   "source": [
    "# Proof"
   ]
  },
  {
   "cell_type": "markdown",
   "metadata": {},
   "source": [
    "## Proof Methods"
   ]
  },
  {
   "cell_type": "markdown",
   "metadata": {},
   "source": [
    "### Proof by deduction\n",
    "\n",
    "##### Use algebra to define a logical arguement to prove or disprove."
   ]
  },
  {
   "cell_type": "markdown",
   "metadata": {},
   "source": [
    "#### Example 1:\n",
    "\n",
    "$n^2 - 4n + 5$ is positive for any integer.\n",
    "\n",
    "$n^2 - 4n + 5 = (n-2)^2 + 1$\n",
    "\n",
    "because $x^2 \\ge 0$, and $+1$ doesnt change it:\n",
    "\n",
    "$(n-2)^2 + 1 > 0$\n",
    "\n",
    "$\\therefore$ $n^2 - 4n + 5 > 0$\n",
    "\n",
    "So this is true."
   ]
  },
  {
   "cell_type": "markdown",
   "metadata": {},
   "source": [
    "### Proof by exhaustion\n",
    "\n",
    "##### Substitute all possible values into the conjecture (only works with limited number of possible values)."
   ]
  },
  {
   "cell_type": "markdown",
   "metadata": {},
   "source": [
    "n is an integer\n",
    "\n",
    "$2 \\le n \\le 7$\n",
    "\n",
    "$p = n^2 + 2 \\not= 4x$\n",
    "\n",
    "with x as an integer\n",
    "\n",
    "| n | p  | T/F |\n",
    "|---|----|-----|\n",
    "| 2 | 6  | F   |\n",
    "| 3 | 11 | F   |\n",
    "| 4 | 18 | F   |\n",
    "| 5 | 27 | F   |\n",
    "| 6 | 38 | F   |\n",
    "| 7 | 51 | F   |\n",
    "\n",
    "All results are false $\\therefore$\n",
    "\n",
    "$p = n^2 + 2 \\not= 4x$ is true"
   ]
  },
  {
   "cell_type": "markdown",
   "metadata": {},
   "source": [
    "### Proof of irrationality of $\\sqrt{2}$\n",
    "\n",
    "$\\sqrt{2} = \\frac{p}{q}$\n",
    "\n",
    "with $\\frac{p}{q}$ in simplest form.\n",
    "\n",
    "$2 = \\frac{p^2}{q^2}$\n",
    "\n",
    "$2q^2 = p^2$\n",
    "\n",
    "$\\therefore$ $p^2$ must be even\n",
    "\n",
    "$\\therefore$ $p$ must be even\n",
    "\n",
    "replace $p$ with $2k$, where k is an integer\n",
    "\n",
    "$2q^2 = (2k)^2$\n",
    "\n",
    "$2q^2 = 4k^2$\n",
    "\n",
    "$q^2 = 2k^2$\n",
    "\n",
    "$\\therefore$ $q^2$ must be even\n",
    "\n",
    "$\\therefore$ $q$ must be even\n",
    "\n",
    "if $p$ and $q$ are both even, is contradicts our statement of $\\frac{p}{q}$ in simplest form as they have a common factor of 2\n",
    "\n",
    "$\\therefore$ $\\sqrt{2}$ is irrational"
   ]
  },
  {
   "cell_type": "markdown",
   "metadata": {},
   "source": [
    "### Proof of infinite primes\n",
    "\n",
    "complete list of primes:\n",
    "\n",
    "$p_1, p_2, p_3, \\dots, p_n$\n",
    "\n",
    "$Q = p_1 \\times p_2 \\times p_3 \\times \\dots \\times p_n$\n",
    "\n",
    "$p_1 \\times p_2 \\times p_3 \\times \\dots \\times p_n$ is the only way to write Q as a product of primes\n",
    "\n",
    "if we add 1 to Q\n",
    "\n",
    "$Q = p_1 \\times p_2 \\times p_3 \\times \\dots \\times p_n + 1$\n",
    "\n",
    "cant create product of primes because any of the primes will have the multiple $p_1 \\times p_2 \\times p_3 \\times \\dots \\times p_n$\n",
    "\n",
    "eg. $p_2(p_1 \\times p_3 \\times \\dots \\times p_n) = Q - 1$\n",
    "\n",
    "and since we cant add 1 in any way\n",
    "\n",
    "this must be a new prime and the list is not complete.\n",
    "\n",
    "$\\therefore$ there are infinite primes."
   ]
  },
  {
   "cell_type": "code",
   "execution_count": null,
   "metadata": {
    "collapsed": true
   },
   "outputs": [],
   "source": []
  }
 ],
 "metadata": {
  "kernelspec": {
   "display_name": "Python 2",
   "language": "python",
   "name": "python2"
  },
  "language_info": {
   "codemirror_mode": {
    "name": "ipython",
    "version": 2
   },
   "file_extension": ".py",
   "mimetype": "text/x-python",
   "name": "python",
   "nbconvert_exporter": "python",
   "pygments_lexer": "ipython2",
   "version": "2.7.12"
  }
 },
 "nbformat": 4,
 "nbformat_minor": 2
}
