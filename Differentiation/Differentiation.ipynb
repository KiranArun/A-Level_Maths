{
 "cells": [
  {
   "cell_type": "markdown",
   "metadata": {
    "collapsed": true
   },
   "source": [
    "# Differentiation"
   ]
  },
  {
   "cell_type": "code",
   "execution_count": 3,
   "metadata": {
    "collapsed": true
   },
   "outputs": [],
   "source": [
    "import matplotlib.pyplot as plt\n",
    "import numpy as np"
   ]
  },
  {
   "cell_type": "markdown",
   "metadata": {},
   "source": [
    "### Limits\n",
    "\n",
    "limits are useful in functions to achieve (or get as close as possible to) the result.\n",
    "\n",
    "$$\\lim_{x\\to c}f(x) = L$$\n",
    "\n",
    "In this case, $f(x)$ is being made as close to L as possible by making x sufficiently close to c.\n",
    "\n",
    "read as:\n",
    "    the limit of f of x, as x approaches c, equals L"
   ]
  },
  {
   "cell_type": "markdown",
   "metadata": {},
   "source": [
    "#### To find the gradient of a line, we use $M = \\frac{dy}{dx}$\n",
    "\n",
    "#### The derivative of $f(x)$ is the gradient of the tangent of line $y = f(x)$ at general point $(x,y)$\n",
    "\n",
    "### To find the derivative/gradient:\n",
    "\n",
    "$M = \\frac{dy}{dx}$\n",
    "\n",
    "$dx = x_1 - x$\n",
    "\n",
    "$dy = f(x+dx) - f(x)$\n",
    "\n",
    "$\\frac{dy}{dx} = \\frac{f(x+dx)-f(x)}{dx}$\n",
    "\n",
    "$$\\frac{dy}{dx} = \\lim_{dx\\to 0}\\frac{f(x+dx)-f(x)}{dx}$$\n",
    "\n",
    "The limit will make the difference in $x$ and $x_1$ so small, the tangent will be equal (or close enough) to the gradient at x"
   ]
  },
  {
   "cell_type": "markdown",
   "metadata": {},
   "source": [
    "### Example:\n",
    "\n",
    "$f(x) = x^2$\n",
    "\n",
    "$\\frac{dy}{dx}  = \\lim_{dx\\to 0}\\frac{f(x+dx)-f(x)}{dx}$\n",
    "\n",
    "$\\frac{dy}{dx}  = \\lim_{dx\\to 0}\\frac{(x+dx)^2 - x^2}{dx}$\n",
    "\n",
    "$\\frac{dy}{dx}  = \\lim_{dx\\to 0}\\frac{x^2 + 2x(dx) + (dx)^2 - x^2}{dx}$\n",
    "\n",
    "$\\frac{dy}{dx}  = \\lim_{dx\\to 0}2x + dx$\n",
    "\n",
    "#### if dx is as close to zero as possible, it is equivillant to:\n",
    "\n",
    "$$\\frac{dy}{dx}  = 2x$$"
   ]
  },
  {
   "cell_type": "code",
   "execution_count": 14,
   "metadata": {},
   "outputs": [
    {
     "data": {
      "image/png": "[encoded data removed]",
      "text/plain": [
       "<matplotlib.figure.Figure at 0x7fea514575f8>"
      ]
     },
     "metadata": {},
     "output_type": "display_data"
    },
    {
     "name": "stdout",
     "output_type": "stream",
     "text": [
      "dydx =  10.00000100148668\n",
      "2 x 5 = 10\n"
     ]
    }
   ],
   "source": [
    "def f(x): # sample function\n",
    "    return x**2\n",
    "\n",
    "# graph data arrays\n",
    "x = np.linspace(-10,10,210)\n",
    "y = f(x)\n",
    "\n",
    "# our x value\n",
    "a = 5\n",
    " # delta x, smallest value possible, python cant handle nummbers too small\n",
    "dx = 0.000001\n",
    "\n",
    "#dy dx equation to find gradient\n",
    "M = (f(a+dx)-f(a)) / dx\n",
    "\n",
    "#y = mx + c equation for tangent\n",
    "tan = M * (x-a) + f(a)\n",
    "\n",
    "# set up plot\n",
    "fig = plt.figure()\n",
    "ax = fig.add_subplot(111)\n",
    "# plot graph\n",
    "ax.plot(x,y,a,f(a),'om',x,tan,)\n",
    "ax.grid(True)\n",
    "ax.axis([-10, 10, -100, 100])\n",
    "plt.show()\n",
    "\n",
    "print('dydx = ',M)\n",
    "print('2 x', a, '=', 2*a)"
   ]
  },
  {
   "cell_type": "markdown",
   "metadata": {},
   "source": [
    "#### to find the gradient for $x^n$:\n",
    "\n",
    "#### $f(x)=x^2$\n",
    "   \n",
    "#### &ensp; $\\frac{d}{dx}f(x) = 2x$\n",
    "\n",
    "####  $f(x)=x^3$\n",
    "   \n",
    "#### &ensp; $\\frac{d}{dx}f(x) = 3x^2$\n",
    "\n",
    "#### $f(x)=x^4$\n",
    "   \n",
    "#### &ensp; $\\frac{d}{dx}f(x) = 4x^3$\n",
    "\n",
    "#### $f(x)=5x^3 + 3x$\n",
    "  \n",
    "#### &ensp; $\\frac{d}{dx}f(x) = 15x^2 + 3$\n",
    "\n",
    "#### the formula is:\n",
    "\n",
    "### $f(x) = ax^n$\n",
    "\n",
    "### $\\frac{d}{dx}f(x) = anx^{n-1}$"
   ]
  },
  {
   "cell_type": "code",
   "execution_count": null,
   "metadata": {
    "collapsed": true
   },
   "outputs": [],
   "source": []
  }
 ],
 "metadata": {
  "kernelspec": {
   "display_name": "Python 3",
   "language": "python",
   "name": "python3"
  },
  "language_info": {
   "codemirror_mode": {
    "name": "ipython",
    "version": 3
   },
   "file_extension": ".py",
   "mimetype": "text/x-python",
   "name": "python",
   "nbconvert_exporter": "python",
   "pygments_lexer": "ipython3",
   "version": "3.5.2"
  }
 },
 "nbformat": 4,
 "nbformat_minor": 2
}
