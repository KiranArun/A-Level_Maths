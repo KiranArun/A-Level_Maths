{
 "cells": [
  {
   "cell_type": "markdown",
   "metadata": {
    "collapsed": true
   },
   "source": [
    "# Differentiation"
   ]
  },
  {
   "cell_type": "code",
   "execution_count": 2,
   "metadata": {
    "collapsed": true
   },
   "outputs": [],
   "source": [
    "import matplotlib.pyplot as plt\n",
    "import numpy as np"
   ]
  },
  {
   "cell_type": "markdown",
   "metadata": {},
   "source": [
    "### Limits\n",
    "\n",
    "limits are useful in functions to achieve (or get as close as possible to) the result.\n",
    "\n",
    "$$\\lim_{x\\to c}f(x) = L$$\n",
    "\n",
    "In this case, $f(x)$ is being made as close to L as possible by making x sufficiently close to c.\n",
    "\n",
    "read as:\n",
    "    the limit of f of x, as x approaches c, equals L"
   ]
  },
  {
   "cell_type": "markdown",
   "metadata": {},
   "source": [
    "#### To find the gradient of a line, we use $M = \\frac{dy}{dx}$\n",
    "\n",
    "#### The derivative of $f(x)$ is the gradient of the tangent of line $y = f(x)$ at general point $(x,y)$\n",
    "\n",
    "### To find the derivative/gradient:\n",
    "\n",
    "$M = \\frac{dy}{dx}$\n",
    "\n",
    "$dx = x_1 - x$\n",
    "\n",
    "$dy = f(x+dx) - f(x)$\n",
    "\n",
    "$\\frac{dy}{dx} = \\frac{f(x+dx)-f(x)}{dx}$\n",
    "\n",
    "$$\\frac{dy}{dx} = \\lim_{dx\\to 0}\\frac{f(x+dx)-f(x)}{dx}$$\n",
    "\n",
    "The limit will make the difference in $x$ and $x_1$ so small, the tangent will be equal (or close enough) to the gradient at x"
   ]
  },
  {
   "cell_type": "markdown",
   "metadata": {},
   "source": [
    "### Example:\n",
    "\n",
    "$f(x) = x^2$\n",
    "\n",
    "$\\frac{dy}{dx}  = \\lim_{dx\\to 0}\\frac{f(x+dx)-f(x)}{dx}$\n",
    "\n",
    "$\\frac{dy}{dx}  = \\lim_{dx\\to 0}\\frac{(x+dx)^2 - x^2}{dx}$\n",
    "\n",
    "$\\frac{dy}{dx}  = \\lim_{dx\\to 0}\\frac{x^2 + 2x(dx) + (dx)^2 - x^2}{dx}$\n",
    "\n",
    "$\\frac{dy}{dx}  = \\lim_{dx\\to 0}2x + dx$\n",
    "\n",
    "#### if dx is as close to zero as possible, it is equivillant to:\n",
    "\n",
    "$$\\frac{dy}{dx}  = 2x$$"
   ]
  },
  {
   "cell_type": "code",
   "execution_count": 8,
   "metadata": {},
   "outputs": [
    {
     "name": "stdout",
     "output_type": "stream",
     "text": [
      "x value from -10 to 10\n",
      "2\n"
     ]
    },
    {
     "data": {
      "image/png": "[encoded data removed]",
      "text/plain": [
       "<matplotlib.figure.Figure at 0x7f3d49e30cd0>"
      ]
     },
     "metadata": {},
     "output_type": "display_data"
    },
    {
     "name": "stdout",
     "output_type": "stream",
     "text": [
      "dydx =  4.00000100065\n",
      "2 x 2.0 = 4.0\n"
     ]
    }
   ],
   "source": [
    "def f(x): # sample function\n",
    "    return x**2\n",
    "\n",
    "# graph data arrays\n",
    "x = np.linspace(-10,10,210)\n",
    "y = f(x)\n",
    "\n",
    "# our x value\n",
    "a = float(input('x value from -10 to 10\\n'))\n",
    " # delta x, smallest value possible, python cant handle nummbers too small\n",
    "dx = 0.000001\n",
    "\n",
    "#dy dx equation to find gradient\n",
    "M = (f(a+dx)-f(a)) / dx\n",
    "\n",
    "#y = mx + c equation for tangent\n",
    "tan = M * (x-a) + f(a)\n",
    "\n",
    "# set up plot\n",
    "fig = plt.figure()\n",
    "ax = fig.add_subplot(111)\n",
    "# plot graph\n",
    "ax.plot(x,y,a,f(a),'om',x,tan,)\n",
    "ax.grid(True)\n",
    "ax.axis([-10, 10, -100, 100])\n",
    "plt.show()\n",
    "\n",
    "print 'dydx = ',M\n",
    "print '2 x', a, '=', 2*a"
   ]
  },
  {
   "cell_type": "markdown",
   "metadata": {},
   "source": [
    "# to find the gradient for $x^n$:\n",
    "\n",
    "#### $f(x)=x^2$\n",
    "   \n",
    "#### &ensp; $\\frac{d}{dx}f(x) = 2x$\n",
    "\n",
    "####  $f(x)=x^3$\n",
    "   \n",
    "#### &ensp; $\\frac{d}{dx}f(x) = 3x^2$\n",
    "\n",
    "#### $f(x)=x^4$\n",
    "   \n",
    "#### &ensp; $\\frac{d}{dx}f(x) = 4x^3$\n",
    "\n",
    "#### $f(x)=5x^3 + 3x$\n",
    "  \n",
    "#### &ensp; $\\frac{d}{dx}f(x) = 15x^2 + 3$\n",
    "\n",
    "#### the formula is:\n",
    "\n",
    "### $f(x) = ax^n$\n",
    "\n",
    "### $\\frac{d}{dx}f(x) = anx^{n-1}$"
   ]
  },
  {
   "cell_type": "markdown",
   "metadata": {
    "collapsed": true
   },
   "source": [
    "### Second Derivatives\n",
    "\n",
    "These are the derivatives ofthe derivative.  It's like the rate of change of acceleration."
   ]
  },
  {
   "cell_type": "markdown",
   "metadata": {},
   "source": [
    "### Chain Rule\n",
    "\n",
    "The Chain Rule is used to find the derivative of an equation with a power too large to expand using the binomial theorem"
   ]
  },
  {
   "cell_type": "markdown",
   "metadata": {},
   "source": [
    "### Example 1:\n",
    "\n",
    "$y = (3x^2 + 5x)^{10}$\n",
    "\n",
    "let $u = 3x^2 + 5x$\n",
    "\n",
    "so now the derivative of the function being applied to u:\n",
    "\n",
    "$y = u^{10}$\n",
    "\n",
    "$\\frac{dy}{du} = 10u^9$\n",
    "\n",
    "also differentiating u itself:\n",
    "\n",
    "$\\frac{du}{dx} = 6x + 5$\n",
    "\n",
    "\n",
    "and to combine them:\n",
    "\n",
    "$\\frac{dy}{dx} = \\frac{dy}{du} \\cdot \\frac{du}{dx}$\n",
    "\n",
    "the $du$'s cancel each other out\n",
    "\n",
    "so the answer is:\n",
    "(for an exam we can skip the middel steps and go to here directly)\n",
    "\n",
    "$\\frac{dy}{dx} = 10(3x^2 + 5x)^9(6x + 5)$\n",
    "\n",
    "$\\frac{dy}{dx} = (60x + 50)(3x^2 + 5x)^9$"
   ]
  },
  {
   "cell_type": "markdown",
   "metadata": {},
   "source": [
    "### Example 2:\n",
    "\n",
    "$y = \\frac{2}{x^2 + 2}$\n",
    "\n",
    "$y = 2(x^2 + 2)^{-1}$\n",
    "\n",
    "$\\frac{dy}{dx} = -2(x^2 + 2)^{-2}(2x)$\n",
    "\n",
    "$\\frac{dy}{dx} = \\frac{-4x}{(x^2 + 2)^2}$"
   ]
  },
  {
   "cell_type": "markdown",
   "metadata": {},
   "source": [
    "### Product Rule\n",
    "\n",
    "The product rule is used when there are two terms being multiplied in the equation you are trying to differentiate\n",
    "\n",
    "$$\\frac{d}{dx}uv = u\\frac{dv}{dx} + v\\frac{du}{dx}$$"
   ]
  },
  {
   "cell_type": "markdown",
   "metadata": {},
   "source": [
    "### Example 1:\n",
    "\n",
    "$y = (2x + 1)^4(3x^2 - 5x)$\n",
    "\n",
    "to find:\n",
    "\n",
    "$\\frac{d}{dx}(2x + 1)^4(3x^2 - 5x)$\n",
    "\n",
    "using:\n",
    "\n",
    "$\\frac{d}{dx}uv = u\\frac{dv}{dx} + v\\frac{du}{dx}$\n",
    "\n",
    "\n",
    "$ = (2x + 1)^4(6x - 5) + (3x^2 - 5x)(4(2x + 1)^3(2))$\n",
    "\n",
    "$ = (6x - 5)(2x + 1)^4 + 8(3x^2 - 5x)(2x + 1)^3$"
   ]
  },
  {
   "cell_type": "markdown",
   "metadata": {},
   "source": [
    "### Example 2:\n",
    "\n",
    "$y = (3x^2 + 1)(x^3 + x)^2$\n",
    "\n",
    "$= (3x^2 + 1)(2(x^3 + x)(3x^2 + 1)) + (x^3 + x)^2(6x)$\n",
    "\n",
    "$= 2(x^3 + x)(3x^2 + 1)^2 +6x(x^3 + 3)^2$"
   ]
  },
  {
   "cell_type": "markdown",
   "metadata": {},
   "source": [
    "### Example 3:\n",
    "\n",
    "$y = \\sqrt{2a^2x^2 + 2x}(ax + b)^3$\n",
    "\n",
    "$= (2a^2x^2 + 2x)^{\\frac{1}{2}}(ax + b)^3$\n",
    "\n",
    "$= (2a^2x^2 + 2x)^{\\frac{1}{2}}(3(ax + b)^2(a)) + (\\frac{1}{2}(2a^2x^2 + 2x)^{-\\frac{1}{2}}(4a^2x + 2))(ax + b)^3$"
   ]
  },
  {
   "cell_type": "markdown",
   "metadata": {},
   "source": [
    "$= (2a^2x^2 + 2x)^{\\frac{1}{2}}(ax + b)^3$\n",
    "\n",
    "$= (2a^2x^2 + 2x)^{\\frac{1}{2}}(3(ax + b)^2(a)) + (\\frac{1}{2}(2a^2x^2 + 2x)^{-\\frac{1}{2}}(4a^2x + 2))(ax + b)^3$\n",
    "\n",
    "$= 3a(ax + b)^2\\sqrt{2a^2x^2 + 2x} + \\frac{(2a^2x + 1)(ax + b)^3}{\\sqrt{2a^2x^2 + 2x}}$"
   ]
  },
  {
   "cell_type": "markdown",
   "metadata": {
    "collapsed": true
   },
   "source": [
    "### Quotient Rule\n",
    "\n",
    "To Differentiate a fraction, similar to product rule\n",
    "\n",
    "\n",
    "$$\\frac{d}{dx}\\frac{u}{v}=\\frac{v\\frac{du}{dx}-u\\frac{dv}{dx}}{v^2}$$"
   ]
  },
  {
   "cell_type": "markdown",
   "metadata": {},
   "source": [
    "### Example 1:\n",
    "\n",
    "$y = \\frac{3x + 2}{2x - 1}$\n",
    "\n",
    "to find:\n",
    "\n",
    "$\\frac{d}{dx}\\frac{3x + 2}{2x - 1}$\n",
    "\n",
    "using:\n",
    "\n",
    "$\\frac{d}{dx}\\frac{u}{v}=\\frac{v\\frac{du}{dx}-u\\frac{dv}{dx}}{v^2}$\n",
    "\n",
    "$= \\frac{(2x - 1)(3) - (3x + 2)(2)}{(2x - 1)^2}$\n",
    "\n",
    "$= \\frac{6x - 3 - 6x - 4}{(2x - 1)^2}$\n",
    "\n",
    "$= \\frac{-7}{(2x - 1)^2}$"
   ]
  },
  {
   "cell_type": "markdown",
   "metadata": {
    "collapsed": true
   },
   "source": [
    "### Example 2:\n",
    "\n",
    "$y = \\frac{3x + 2}{\\sqrt{4x - 1}}$\n",
    "\n",
    "$= \\frac{3x + 2}{(4x - 1)^{\\frac{1}{2}}}$\n",
    "\n",
    "$= \\frac{(4x - 1)^{\\frac{1}{2}}(3) - (3x + 2)(\\frac{1}{2}(4x - 1)^{-\\frac{1}{2}}(4))}{4x - 1}$\n",
    "\n",
    "$= \\frac{3\\sqrt{4x - 1} - \\frac{2(3x + 2)}{\\sqrt{4x - 1}}}{4x - 1}$\n",
    "\n",
    "$= \\frac{\\frac{3(4x - 1) - 2(3x + 2)}{\\sqrt{4x - 1}}}{4x - 1}$\n",
    "\n",
    "$= \\frac{3(4x - 1) - 2(3x + 2)}{(4x - 1)^\\frac{3}{2}}$\n",
    "\n",
    "$= \\frac{6x - 7}{(4x - 1)^\\frac{3}{2}}$"
   ]
  },
  {
   "cell_type": "markdown",
   "metadata": {},
   "source": []
  },
  {
   "cell_type": "code",
   "execution_count": null,
   "metadata": {
    "collapsed": true
   },
   "outputs": [],
   "source": []
  }
 ],
 "metadata": {
  "kernelspec": {
   "display_name": "Python 2",
   "language": "python",
   "name": "python2"
  },
  "language_info": {
   "codemirror_mode": {
    "name": "ipython",
    "version": 2
   },
   "file_extension": ".py",
   "mimetype": "text/x-python",
   "name": "python",
   "nbconvert_exporter": "python",
   "pygments_lexer": "ipython2",
   "version": "2.7.12"
  }
 },
 "nbformat": 4,
 "nbformat_minor": 2
}
