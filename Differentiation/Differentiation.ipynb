{
 "cells": [
  {
   "cell_type": "markdown",
   "metadata": {
    "collapsed": true
   },
   "source": [
    "# Differentiation"
   ]
  },
  {
   "cell_type": "code",
   "execution_count": 62,
   "metadata": {
    "collapsed": true
   },
   "outputs": [],
   "source": [
    "# With all python examples, beware that python can't handle numbers too small so some results will be inaccurate\n",
    "import matplotlib.pyplot as plt\n",
    "import numpy as np"
   ]
  },
  {
   "cell_type": "markdown",
   "metadata": {},
   "source": [
    "### Limits\n",
    "\n",
    "limits are useful in functions to achieve (or get as close as possible to) the result.\n",
    "\n",
    "$$\\lim_{x\\to c}f(x) = L$$\n",
    "\n",
    "In this case, $f(x)$ is being made as close to L as possible by making x sufficiently close to c.\n",
    "\n",
    "read as:\n",
    "    the limit of f of x, as x approaches c, equals L"
   ]
  },
  {
   "cell_type": "markdown",
   "metadata": {},
   "source": [
    "#### To find the gradient of a line, we use $M = \\frac{dy}{dx}$\n",
    "\n",
    "#### The derivative of $f(x)$ is the gradient of the tangent of line $y = f(x)$ at general point $(x,y)$\n",
    "\n",
    "### To find the derivative/gradient:\n",
    "\n",
    "$M = \\frac{dy}{dx}$\n",
    "\n",
    "$dx = x_1 - x$\n",
    "\n",
    "$dy = f(x+dx) - f(x)$\n",
    "\n",
    "$\\frac{dy}{dx} = \\frac{f(x+dx)-f(x)}{dx}$\n",
    "\n",
    "$$\\frac{dy}{dx} = \\lim_{dx\\to 0}\\frac{f(x+dx)-f(x)}{dx}$$\n",
    "\n",
    "The limit will make the difference in $x$ and $x_1$ so small, the tangent will be equal (or close enough) to the gradient at x"
   ]
  },
  {
   "cell_type": "markdown",
   "metadata": {},
   "source": [
    "### Example:\n",
    "\n",
    "$f(x) = x^2$\n",
    "\n",
    "$\\frac{dy}{dx}  = \\lim_{dx\\to 0}\\frac{f(x+dx)-f(x)}{dx}$\n",
    "\n",
    "$\\frac{dy}{dx}  = \\lim_{dx\\to 0}\\frac{(x+dx)^2 - x^2}{dx}$\n",
    "\n",
    "$\\frac{dy}{dx}  = \\lim_{dx\\to 0}\\frac{x^2 + 2x(dx) + (dx)^2 - x^2}{dx}$\n",
    "\n",
    "$\\frac{dy}{dx}  = \\lim_{dx\\to 0}2x + dx$\n",
    "\n",
    "#### if dx is as close to zero as possible, it is equivillant to:\n",
    "\n",
    "$$\\frac{dy}{dx}  = 2x$$"
   ]
  },
  {
   "cell_type": "code",
   "execution_count": 53,
   "metadata": {},
   "outputs": [
    {
     "name": "stdout",
     "output_type": "stream",
     "text": [
      "x value from -10 to 10\n",
      "2\n"
     ]
    },
    {
     "data": {
      "image/png": "[encoded data removed]",
      "text/plain": [
       "<matplotlib.figure.Figure at 0x7fb2e9928cd0>"
      ]
     },
     "metadata": {},
     "output_type": "display_data"
    },
    {
     "name": "stdout",
     "output_type": "stream",
     "text": [
      "dydx =  4.00000100065\n",
      "2 x 2.0 = 4.0\n"
     ]
    }
   ],
   "source": [
    "def f(x): # sample function\n",
    "    return x**2\n",
    "\n",
    "# graph data arrays\n",
    "x = np.linspace(-10,10,210)\n",
    "y = f(x)\n",
    "\n",
    "# our x value\n",
    "a = float(input('x value from -10 to 10\\n'))\n",
    " # delta x, smallest value possible, python cant handle nummbers too small\n",
    "dx = 0.000001\n",
    "\n",
    "#dy dx equation to find gradient\n",
    "M = (f(a+dx)-f(a)) / dx\n",
    "\n",
    "#y = mx + c equation for tangent\n",
    "tan = M * (x-a) + f(a)\n",
    "\n",
    "# set up plot\n",
    "fig = plt.figure()\n",
    "ax = fig.add_subplot(111)\n",
    "# plot graph\n",
    "ax.plot(x,y,a,f(a),'om',x,tan,)\n",
    "ax.grid(True)\n",
    "ax.axis([-10, 10, -100, 100])\n",
    "plt.show()\n",
    "\n",
    "print 'dydx = ',M\n",
    "print '2 x', a, '=', 2*a"
   ]
  },
  {
   "cell_type": "markdown",
   "metadata": {},
   "source": [
    "### to find the gradient for $x^n$:\n",
    "\n",
    "#### $f(x)=x^2$\n",
    "   \n",
    "#### &ensp; $\\frac{d}{dx}f(x) = 2x$\n",
    "\n",
    "####  $f(x)=x^3$\n",
    "   \n",
    "#### &ensp; $\\frac{d}{dx}f(x) = 3x^2$\n",
    "\n",
    "#### $f(x)=x^4$\n",
    "   \n",
    "#### &ensp; $\\frac{d}{dx}f(x) = 4x^3$\n",
    "\n",
    "#### $f(x)=5x^3 + 3x$\n",
    "  \n",
    "#### &ensp; $\\frac{d}{dx}f(x) = 15x^2 + 3$\n",
    "\n",
    "#### the formula is:\n",
    "\n",
    "### $f(x) = ax^n$\n",
    "\n",
    "### $\\frac{d}{dx}f(x) = anx^{n-1}$"
   ]
  },
  {
   "cell_type": "markdown",
   "metadata": {},
   "source": [
    "#### With y in this format:\n",
    "\n",
    "### $y = \\frac{a}{x^n}$\n",
    "\n",
    "#### We can use this equation:\n",
    "\n",
    "### $\\frac{dy}{dx} = -\\frac{an}{x^{n+1}}$\n",
    "\n",
    "### Example 1:\n",
    "\n",
    "### $y =  \\frac{2}{x^3}$\n",
    "\n",
    "### $\\frac{dy}{dx} = -\\frac{6}{x^4}$\n",
    "\n",
    "### Example 2:\n",
    "\n",
    "### $y = \\frac{1}{x}-\\frac{2}{x^2}+\\frac{3}{x^3}$\n",
    "\n",
    "### $\\frac{dy}{dx} = -\\frac{1}{x^2}+\\frac{4}{x^3}-\\frac{9}{x^4}$"
   ]
  },
  {
   "cell_type": "markdown",
   "metadata": {},
   "source": [
    "### Quick Rules:\n",
    "\n",
    "#### Sum/Difference Rule:\n",
    "\n",
    "(sum for addition and difference for subtraction)\n",
    "\n",
    "$$\\frac{d}{dx}[f(x)+g(x)] = \\frac{d}{dx}f(x) + \\frac{d}{dx}g(x)$$\n",
    "\n",
    "#### Constant Multiple Rule:\n",
    "\n",
    "where c is a constant and f is a function\n",
    "\n",
    "$$(cf(x))′=c(f(x))'$$"
   ]
  },
  {
   "cell_type": "markdown",
   "metadata": {},
   "source": [
    "### Chain Rule\n",
    "\n",
    "The Chain Rule is used to find the derivative of an equation with a power too large to expand using the binomial theorem\n",
    "\n",
    "$$\\frac{d}{dx}f(g(x)) = f'(g(x))\\cdot g'(x)$$"
   ]
  },
  {
   "cell_type": "markdown",
   "metadata": {},
   "source": [
    "### Example 1:\n",
    "\n",
    "$y = (3x^2 + 5x)^{10}$\n",
    "\n",
    "let $u = 3x^2 + 5x$\n",
    "\n",
    "so now the derivative of the function being applied to u:\n",
    "\n",
    "$y = u^{10}$\n",
    "\n",
    "$\\frac{dy}{du} = 10u^9$\n",
    "\n",
    "also differentiating u itself:\n",
    "\n",
    "$\\frac{du}{dx} = 6x + 5$\n",
    "\n",
    "\n",
    "and to combine them:\n",
    "\n",
    "$\\frac{dy}{dx} = \\frac{dy}{du} \\cdot \\frac{du}{dx}$\n",
    "\n",
    "the $du$'s cancel each other out\n",
    "\n",
    "so the answer is:\n",
    "(for an exam we can skip the middel steps and go to here directly)\n",
    "\n",
    "$\\frac{dy}{dx} = 10(3x^2 + 5x)^9(6x + 5)$\n",
    "\n",
    "$\\frac{dy}{dx} = (60x + 50)(3x^2 + 5x)^9$"
   ]
  },
  {
   "cell_type": "code",
   "execution_count": 44,
   "metadata": {},
   "outputs": [
    {
     "data": {
      "image/png": "[encoded data removed]",
      "text/plain": [
       "<matplotlib.figure.Figure at 0x7fb2e9609b10>"
      ]
     },
     "metadata": {},
     "output_type": "display_data"
    },
    {
     "data": {
      "image/png": "[encoded data removed]",
      "text/plain": [
       "<matplotlib.figure.Figure at 0x7fb2e9609b90>"
      ]
     },
     "metadata": {},
     "output_type": "display_data"
    },
    {
     "name": "stdout",
     "output_type": "stream",
     "text": [
      "dydx =  11595.1403476\n",
      "using chain rule:\n",
      "dydx = 11594.9347755\n"
     ]
    }
   ],
   "source": [
    "# Python example of previous example\n",
    "# since we are using a computer, we dont need the chain rule but this is to prove it works\n",
    "\n",
    "# function from previous example\n",
    "def f(x):\n",
    "    return (3*x**2 + 5*x)**10\n",
    "\n",
    "# create line data\n",
    "x_data = np.linspace(0,0.4,4001)\n",
    "y = f(x_data)\n",
    "\n",
    "# set params\n",
    "x = 0.3\n",
    "d = 0.000001\n",
    "\n",
    "# use equation from example\n",
    "M_chain = (60*x + 50)*(3*x**2 + 5*x)**9\n",
    "# create tangent\n",
    "tan_chain = M_chain * (x_data-x) + f(x) \n",
    "\n",
    "# use equation from first princeple\n",
    "M = (f(x+d)-f(x)) /d\n",
    "# create tangent\n",
    "tan = M * (x_data-x) + f(x) \n",
    "\n",
    "# plot\n",
    "fig, ax = plt.subplots()\n",
    "fig, ax2 = plt.subplots()\n",
    "ax.grid(True)\n",
    "ax2.grid(True)\n",
    "ax.plot(x_data,y,x,f(x),'om',x_data,tan,'g:')\n",
    "ax2.plot(x_data,y,x,f(x),'om',x_data,tan_chain,'r--')\n",
    "plt.show() \n",
    "print 'dydx = ',M\n",
    "print 'using chain rule:\\ndydx =', M_chain"
   ]
  },
  {
   "cell_type": "markdown",
   "metadata": {},
   "source": [
    "### Example 2:\n",
    "\n",
    "$y = \\frac{2}{x^2 + 2}$\n",
    "\n",
    "$y = 2(x^2 + 2)^{-1}$\n",
    "\n",
    "$\\frac{dy}{dx} = -2(x^2 + 2)^{-2}(2x)$\n",
    "\n",
    "$\\frac{dy}{dx} = \\frac{-4x}{(x^2 + 2)^2}$"
   ]
  },
  {
   "cell_type": "markdown",
   "metadata": {},
   "source": [
    "### Product Rule\n",
    "\n",
    "The product rule is used when there are two terms being multiplied in the equation you are trying to differentiate\n",
    "\n",
    "$$\\frac{d}{dx}uv = u\\frac{dv}{dx} + v\\frac{du}{dx}$$"
   ]
  },
  {
   "cell_type": "markdown",
   "metadata": {},
   "source": [
    "### Example 1:\n",
    "\n",
    "$y = (2x + 1)^4(3x^2 - 5x)$\n",
    "\n",
    "to find:\n",
    "\n",
    "$\\frac{d}{dx}(2x + 1)^4(3x^2 - 5x)$\n",
    "\n",
    "using:\n",
    "\n",
    "$\\frac{d}{dx}uv = u\\frac{dv}{dx} + v\\frac{du}{dx}$\n",
    "\n",
    "\n",
    "$ = (2x + 1)^4(6x - 5) + (3x^2 - 5x)(4(2x + 1)^3(2))$\n",
    "\n",
    "$ = (6x - 5)(2x + 1)^4 + 8(3x^2 - 5x)(2x + 1)^3$"
   ]
  },
  {
   "cell_type": "markdown",
   "metadata": {},
   "source": [
    "### Example 2:\n",
    "\n",
    "$y = (3x^2 + 1)(x^3 + x)^2$\n",
    "\n",
    "$= (3x^2 + 1)(2(x^3 + x)(3x^2 + 1)) + (x^3 + x)^2(6x)$\n",
    "\n",
    "$= 2(x^3 + x)(3x^2 + 1)^2 +6x(x^3 + 3)^2$"
   ]
  },
  {
   "cell_type": "markdown",
   "metadata": {},
   "source": [
    "### Example 3:\n",
    "\n",
    "$y = \\sqrt{2a^2x^2 + 2x}(ax + b)^3$\n",
    "\n",
    "$= (2a^2x^2 + 2x)^{\\frac{1}{2}}(ax + b)^3$\n",
    "\n",
    "$= (2a^2x^2 + 2x)^{\\frac{1}{2}}(3(ax + b)^2(a)) + (\\frac{1}{2}(2a^2x^2 + 2x)^{-\\frac{1}{2}}(4a^2x + 2))(ax + b)^3$"
   ]
  },
  {
   "cell_type": "markdown",
   "metadata": {},
   "source": [
    "$= (2a^2x^2 + 2x)^{\\frac{1}{2}}(ax + b)^3$\n",
    "\n",
    "$= (2a^2x^2 + 2x)^{\\frac{1}{2}}(3(ax + b)^2(a)) + (\\frac{1}{2}(2a^2x^2 + 2x)^{-\\frac{1}{2}}(4a^2x + 2))(ax + b)^3$\n",
    "\n",
    "$= 3a(ax + b)^2\\sqrt{2a^2x^2 + 2x} + \\frac{(2a^2x + 1)(ax + b)^3}{\\sqrt{2a^2x^2 + 2x}}$"
   ]
  },
  {
   "cell_type": "markdown",
   "metadata": {
    "collapsed": true
   },
   "source": [
    "### Quotient Rule\n",
    "\n",
    "To Differentiate a fraction, similar to product rule\n",
    "\n",
    "\n",
    "$$\\frac{d}{dx}\\frac{u}{v}=\\frac{v\\frac{du}{dx}-u\\frac{dv}{dx}}{v^2}$$"
   ]
  },
  {
   "cell_type": "markdown",
   "metadata": {},
   "source": [
    "### Example 1:\n",
    "\n",
    "$y = \\frac{3x + 2}{2x - 1}$\n",
    "\n",
    "to find:\n",
    "\n",
    "$\\frac{d}{dx}\\frac{3x + 2}{2x - 1}$\n",
    "\n",
    "using:\n",
    "\n",
    "$\\frac{d}{dx}\\frac{u}{v}=\\frac{v\\frac{du}{dx}-u\\frac{dv}{dx}}{v^2}$\n",
    "\n",
    "$= \\frac{(2x - 1)(3) - (3x + 2)(2)}{(2x - 1)^2}$\n",
    "\n",
    "$= \\frac{6x - 3 - 6x - 4}{(2x - 1)^2}$\n",
    "\n",
    "$= \\frac{-7}{(2x - 1)^2}$"
   ]
  },
  {
   "cell_type": "markdown",
   "metadata": {
    "collapsed": true
   },
   "source": [
    "### Example 2:\n",
    "\n",
    "$y = \\frac{3x + 2}{\\sqrt{4x - 1}}$\n",
    "\n",
    "$= \\frac{3x + 2}{(4x - 1)^{\\frac{1}{2}}}$\n",
    "\n",
    "$= \\frac{(4x - 1)^{\\frac{1}{2}}(3) - (3x + 2)(\\frac{1}{2}(4x - 1)^{-\\frac{1}{2}}(4))}{4x - 1}$\n",
    "\n",
    "$= \\frac{3\\sqrt{4x - 1} - \\frac{2(3x + 2)}{\\sqrt{4x - 1}}}{4x - 1}$\n",
    "\n",
    "$= \\frac{\\frac{3(4x - 1) - 2(3x + 2)}{\\sqrt{4x - 1}}}{4x - 1}$\n",
    "\n",
    "$= \\frac{3(4x - 1) - 2(3x + 2)}{(4x - 1)^\\frac{3}{2}}$\n",
    "\n",
    "$= \\frac{6x - 7}{(4x - 1)^\\frac{3}{2}}$"
   ]
  },
  {
   "cell_type": "markdown",
   "metadata": {},
   "source": [
    "### Second Derivatives\n",
    "\n",
    "These are the derivatives of the derivatives.\n",
    "\n",
    "They are useful for finding out the nature of stationary points, where $\\frac{dy}{dx} = 0$\n",
    "\n",
    "The same method works to calculate them."
   ]
  },
  {
   "cell_type": "code",
   "execution_count": 51,
   "metadata": {},
   "outputs": [
    {
     "name": "stdout",
     "output_type": "stream",
     "text": [
      "x value from -10 to 10\n",
      "6\n"
     ]
    },
    {
     "data": {
      "image/png": "[encoded data removed]",
      "text/plain": [
       "<matplotlib.figure.Figure at 0x7fb2e9e4f350>"
      ]
     },
     "metadata": {},
     "output_type": "display_data"
    },
    {
     "name": "stdout",
     "output_type": "stream",
     "text": [
      "f' =  12.0000001402\n",
      "f'' =  2.13162820728\n"
     ]
    }
   ],
   "source": [
    "# sample function\n",
    "def f(x):\n",
    "    return x**2\n",
    "\n",
    "# derivative function\n",
    "def f_p(x):\n",
    "    return (f(x+dx)-f(x)) / dx\n",
    "\n",
    "# second derivative function\n",
    "def f_pp(x):\n",
    "    return ((f_p(x+dx))-f_p(x)) / dx\n",
    "\n",
    "\n",
    "# graph data arrays\n",
    "x_data = np.linspace(-10,10,201)\n",
    "y = f(x_data)\n",
    "\n",
    "# our x value\n",
    "x = float(input('x value from -10 to 10\\n'))\n",
    "# delta x, smallest value possible, python cant handle nummbers too small\n",
    "dx = 0.0000001\n",
    "\n",
    "\n",
    "# find derivative\n",
    "M = f_p(x)\n",
    "# create tangent line to plot\n",
    "tan = M * (x_data-x) + f(x)\n",
    "\n",
    "# find second derivative\n",
    "M2 = f_pp(x)\n",
    "# create tangent line to plot\n",
    "tan2 = M2 * (x_data-x) + f(x)\n",
    "\n",
    "\n",
    "\n",
    "# set up plot\n",
    "fig, ax = plt.subplots()\n",
    "# plot graph\n",
    "ax.plot(x_data,y,x,f(x),'om',x_data,tan,x_data,tan2)\n",
    "ax.grid(True)\n",
    "#ax.axis([-10, 10, -100, 100])\n",
    "plt.show()\n",
    "\n",
    "print \"f' = \",M\n",
    "print \"f'' = \",M2"
   ]
  },
  {
   "cell_type": "markdown",
   "metadata": {},
   "source": [
    "### Notes:\n",
    "\n",
    "#### Representation:\n",
    "\n",
    "$f\"$\n",
    "\n",
    "$\\frac{d^2y}{dx^2}$\n",
    "\n",
    "#### Rules:\n",
    "\n",
    "if $\\frac{d^2y}{dx^2} > 0$, it is a minimum point or convex\n",
    "\n",
    "if $\\frac{d^2y}{dx^2} < 0$, it is a maximum point or concave\n",
    "\n",
    "if $\\frac{d^2y}{dx^2} = 0$, it is inconclusive, can be changing from pos to neg\n",
    "\n",
    "if inconclusive, test values around stationary point"
   ]
  },
  {
   "cell_type": "markdown",
   "metadata": {
    "collapsed": true
   },
   "source": [
    "### Sine, Cosine and Tangent Derivative\n",
    "\n",
    "$\\frac{d}{dx}[sin(x)] = cos(x)$\n",
    "\n",
    "$\\frac{d}{dx}[cos(x)] = -sin(x)$\n",
    "\n",
    "$\\frac{d}{dx}[tan(x)] = \\frac{1}{cos^2(x)} = sec^2(x)$"
   ]
  },
  {
   "cell_type": "markdown",
   "metadata": {},
   "source": [
    "#### Sine Proof:\n",
    "\n",
    "differentiating $sin(x)$ from first princeple\n",
    "\n",
    "$\\frac{d}{dx}[sin(x)] = \\lim_{dx\\to 0}\\frac{sin(x + dx) - sin(x)}{dx}$\n",
    "\n",
    "using a trig angle sum identity $sin(\\alpha + \\beta) = sin(\\alpha) cos(\\beta) + cos(\\alpha) sin(\\beta)$\n",
    "\n",
    "$= \\lim_{dx\\to 0}\\frac{cos(x)sin(dx) + sin(x)cos(dx) - sin(x)}{dx}$\n",
    "\n",
    "$= \\lim_{dx\\to 0}(\\frac{cos(x)sin(dx)}{dx} + \\frac{sin(x)cos(dx) - sin(x)}{dx})$\n",
    "\n",
    "$= cos(x)\\lim_{dx\\to 0}(\\frac{sin(dx)}{dx}) + \\lim_{dx\\to 0}\\frac{sin(x)(cos(dx) - 1)}{dx}$\n",
    "\n",
    "$= cos(x)\\lim_{dx\\to 0}(\\frac{sin(dx)}{dx}) + sin(x)\\lim_{dx\\to 0}\\frac{cos(dx) - 1}{dx}$\n",
    "\n",
    "with $\\frac{sin(\\theta)}{\\theta} = 1$: ([proof](https://www.youtube.com/watch?v=5xitzTutKqM))\n",
    "\n",
    "and $\\frac{cos(\\theta) - 1}{\\theta} = 0$: ([proof](https://www.youtube.com/watch?v=Ojtwh8XDF8M))\n",
    "\n",
    "$= cos(x)(1) + sin(x)(0)$\n",
    "\n",
    "$= cos(x)$"
   ]
  },
  {
   "cell_type": "markdown",
   "metadata": {},
   "source": [
    "#### Cosine Proof:\n",
    "\n",
    "differentiating $cos(x)$ from first princeple\n",
    "\n",
    "$\\frac{d}{dx}[cos(x)] = \\lim_{dx\\to 0}\\frac{cos(x + dx) - cos(x)}{dx}$\n",
    "\n",
    "using a trig angle sum identity $cos(\\alpha + \\beta) = cos(\\alpha) cos(\\beta) – sin(\\alpha) sin(\\beta)$\n",
    "\n",
    "$= \\lim_{dx\\to 0}\\frac{cos(x)cos(dx) - sin(x)sin(dx) - cos(x)}{dx}$\n",
    "\n",
    "$= \\lim_{dx\\to 0}\\frac{cos(x)cos(dx - 1)}{dx} - \\lim_{dx\\to 0}\\frac{sin(x)sin(dx)}{dx}$\n",
    "\n",
    "$= cos(x)\\lim_{dx\\to 0}\\frac{cos(dx - 1)}{dx} - sin(x)\\lim_{dx\\to 0}\\frac{sin(dx)}{dx}$\n",
    "\n",
    "with $\\frac{sin(\\theta)}{\\theta} = 1$: ([proof](https://www.youtube.com/watch?v=5xitzTutKqM))\n",
    "\n",
    "and $\\frac{cos(\\theta) - 1}{\\theta} = 0$: ([proof](https://www.youtube.com/watch?v=Ojtwh8XDF8M))\n",
    "\n",
    "$= cos(x)(0) - sin(x)(1)$\n",
    "\n",
    "$= - sin(x)$"
   ]
  },
  {
   "cell_type": "markdown",
   "metadata": {},
   "source": [
    "### Natural Log Derivative\n",
    "\n",
    "natural log (noted as $ln$) is the same as $log_e(x)$\n",
    "\n",
    "$\\frac{d}{dx}[ln(x)] = \\frac{1}{x}$\n",
    "\n",
    "#### Natural Log Proof:\n",
    "\n",
    "$\\frac{d}{dx}[ln(x)] = \\lim_{dx\\to 0}\\frac{ln(x+dx)-ln(x)}{dx}$\n",
    "\n",
    "with $ln(a) - ln(b) = ln(\\frac{a}{b})$\n",
    "\n",
    "$= \\lim_{dx\\to 0}\\frac{ln(\\frac{x+dx}{x})}{dx}$\n",
    "\n",
    "$= \\lim_{dx\\to 0}\\frac{ln(1+\\frac{dx}{x})}{dx}$\n",
    "\n",
    "$= \\lim_{dx\\to 0}\\frac{1}{dx}ln(1+\\frac{dx}{x})$\n",
    "\n",
    "with $a(ln(b)) = ln(b^a)$\n",
    "\n",
    "$= ln(\\lim_{dx\\to 0}(1+\\frac{dx}{x})^{\\frac{1}{dx}})$\n",
    "\n",
    "let $m = \\frac{dx}{x}$\n",
    "\n",
    "$= ln(\\lim_{m\\to 0}(1+m)^{\\frac{1}{mx}})$\n",
    "\n",
    "$= ln(\\lim_{m\\to 0}((1+m)^{\\frac{1}{m})^{\\frac{1}{x}}})$\n",
    "\n",
    "$= \\frac{1}{x}ln(\\lim_{m\\to 0}(1+m)^{\\frac{1}{m}})$\n",
    "\n",
    "with $\\lim_{m\\to 0}(1+m)^{\\frac{1}{m}} = e$\n",
    "\n",
    "$= \\frac{1}{x}ln(e)$\n",
    "\n",
    "$= \\frac{1}{x}$"
   ]
  },
  {
   "cell_type": "markdown",
   "metadata": {},
   "source": [
    "### $e$ Derivative\n",
    "\n",
    "$\\frac{d}{dx}e^x = e^x$"
   ]
  },
  {
   "cell_type": "markdown",
   "metadata": {},
   "source": []
  },
  {
   "cell_type": "markdown",
   "metadata": {},
   "source": []
  }
 ],
 "metadata": {
  "kernelspec": {
   "display_name": "Python 2",
   "language": "python",
   "name": "python2"
  },
  "language_info": {
   "codemirror_mode": {
    "name": "ipython",
    "version": 2
   },
   "file_extension": ".py",
   "mimetype": "text/x-python",
   "name": "python",
   "nbconvert_exporter": "python",
   "pygments_lexer": "ipython2",
   "version": "2.7.12"
  }
 },
 "nbformat": 4,
 "nbformat_minor": 2
}
